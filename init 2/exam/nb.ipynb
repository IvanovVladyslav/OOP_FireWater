{
 "cells": [
  {
   "cell_type": "code",
   "execution_count": 5,
   "metadata": {},
   "outputs": [
    {
     "name": "stdout",
     "output_type": "stream",
     "text": [
      "Створений об'єкт 2: Name = яблука\n"
     ]
    }
   ],
   "source": [
    "class Apple:\n",
    "    def __init__(self, name):\n",
    "        self.Name = name\n",
    "for i in range(2):\n",
    "    name_input = input(f\"Введіть ім'я для об'єкта {i + 1}: \")\n",
    "    apple_object = Apple(name=name_input)\n",
    "print(f\"Створений об'єкт {i + 1}: Name = {apple_object.Name}\")"
   ]
  },
  {
   "cell_type": "code",
   "execution_count": null,
   "metadata": {},
   "outputs": [],
   "source": []
  }
 ],
 "metadata": {
  "kernelspec": {
   "display_name": "Python 3",
   "language": "python",
   "name": "python3"
  },
  "language_info": {
   "codemirror_mode": {
    "name": "ipython",
    "version": 3
   },
   "file_extension": ".py",
   "mimetype": "text/x-python",
   "name": "python",
   "nbconvert_exporter": "python",
   "pygments_lexer": "ipython3",
   "version": "3.10.11"
  }
 },
 "nbformat": 4,
 "nbformat_minor": 2
}
