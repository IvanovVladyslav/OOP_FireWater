{
 "cells": [
  {
   "cell_type": "markdown",
   "metadata": {},
   "source": [
    "# Основи ООП\n",
    "### Вступ, порівняня"
   ]
  },
  {
   "cell_type": "code",
   "execution_count": 5,
   "metadata": {},
   "outputs": [
    {
     "name": "stdout",
     "output_type": "stream",
     "text": [
      "['Це', 'стрічка.']\n",
      "Владислав має домашнього улюбленця Кіт\n",
      "Назар має домашнього улюбленця Собака\n",
      "Іван має домашнього улюбленця Рибки\n",
      "Владислав має домашнього улюбленця ['Кіт', 'Рибки']\n",
      "Назар має домашнього улюбленця ['Кіт', 'Собака']\n",
      "Іван має домашнього улюбленця Папуга\n",
      "Тетяна немає тваринок.\n"
     ]
    }
   ],
   "source": [
    "s = str(\"Це стрічка.\")\n",
    "for i in [s.split()]:\n",
    "    print(i)\n",
    "# Якщр у нас є якийсь набір даних які потрібно мі собою зв'язати\n",
    "name = [\"Владислав\", \"Назар\", \"Іван\"]\n",
    "pets = [\"Кіт\", \"Собака\", \"Рибки\", \"Папуга\"]\n",
    "\n",
    "for i in range(len(name)):\n",
    "    print(f\"{name[i]} має домашнього улюбленця {pets[i]}\")\n",
    "\n",
    "# А як зробити відповідність якщо потрібно зв'язати один до декількох?\n",
    "# можемо піти дуже складним шляхом та застосовувати словники\n",
    "who_has_pets = {\"Владислав\": [\"Кіт\", \"Рибки\"], \"Назар\":[\"Кіт\", \"Собака\"], \"Іван\": \"Папуга\", \"Тетяна\": None}\n",
    "for name in who_has_pets.keys():\n",
    "    if who_has_pets[name]:\n",
    "        print(f\"{name} має домашнього улюбленця {who_has_pets[name]}\")\n",
    "    else:\n",
    "        print(f\"{name} немає тваринок.\")\n"
   ]
  },
  {
   "cell_type": "code",
   "execution_count": 8,
   "metadata": {},
   "outputs": [
    {
     "name": "stdout",
     "output_type": "stream",
     "text": [
      "<__main__.WhoHasPets object at 0x000001F2151D7700>\n",
      "Богдан Б має домашнього улюбленця ['Кіт', 'Рибки']. Тваринки мають вік {'Кіт': 3, 'Рибки': 1}\n"
     ]
    }
   ],
   "source": [
    "# ООП дозволяє створити новий тип даних описавши його властивості та поведінку\n",
    "class WhoHasPets():\n",
    "    pass\n",
    "\n",
    "\n",
    "a = WhoHasPets()\n",
    "a.name = \"Богдан\"\n",
    "a.surname = \"Б\"\n",
    "a.pets = [\"Кіт\", \"Рибки\"]\n",
    "a.pets_age = {\"Кіт\": 3, \"Рибки\": 1}\n",
    "\n",
    "print(a)\n",
    "\n",
    "print(f\"{a.name} {a.surname} має домашнього улюбленця {a.pets}. Тваринки мають вік {a.pets_age}\")\n"
   ]
  },
  {
   "cell_type": "code",
   "execution_count": 9,
   "metadata": {},
   "outputs": [
    {
     "name": "stdout",
     "output_type": "stream",
     "text": [
      "Let's Start!\n",
      ">*<>*<>*<>*<>*<>*<>*<>*<>*<>*<>*<>*<>*<>*<>*<>*<>*<>*<>*<>*<\n",
      "This is object: <__main__.MyName object at 0x000001F2151D7F70> \n",
      "This is object attribute: Bohdan / 1\n",
      "This is <class 'property'>: My name is Bohdan / Bohdan@itcollege.lviv.ua\n",
      "This is <class 'method'> call: Bohdan@itcollege.lviv.ua\n",
      "This is static <class 'function'> with defaults: You say: Hello to everyone! \n",
      "This is class variable <class 'int'>: from class 4 / from object 4\n",
      "<*><*><*><*><*><*><*><*><*><*><*><*><*><*><*><*><*><*><*><*>\n",
      ">*<>*<>*<>*<>*<>*<>*<>*<>*<>*<>*<>*<>*<>*<>*<>*<>*<>*<>*<>*<\n",
      "This is object: <__main__.MyName object at 0x000001F215255C90> \n",
      "This is object attribute: Marta / 2\n",
      "This is <class 'property'>: My name is Marta / Marta@itcollege.lviv.ua\n",
      "This is <class 'method'> call: Marta@itcollege.lviv.ua\n",
      "This is static <class 'function'> with defaults: You say: Hello to everyone! \n",
      "This is class variable <class 'int'>: from class 4 / from object 4\n",
      "<*><*><*><*><*><*><*><*><*><*><*><*><*><*><*><*><*><*><*><*>\n",
      ">*<>*<>*<>*<>*<>*<>*<>*<>*<>*<>*<>*<>*<>*<>*<>*<>*<>*<>*<>*<\n",
      "This is object: <__main__.MyName object at 0x000001F2152578B0> \n",
      "This is object attribute: Anonymous / 4\n",
      "This is <class 'property'>: My name is Anonymous / Anonymous@itcollege.lviv.ua\n",
      "This is <class 'method'> call: Anonymous@itcollege.lviv.ua\n",
      "This is static <class 'function'> with defaults: You say: Hello to everyone! \n",
      "This is class variable <class 'int'>: from class 4 / from object 4\n",
      "<*><*><*><*><*><*><*><*><*><*><*><*><*><*><*><*><*><*><*><*>\n",
      "We are done. We create 4 names! ??? Why 4?\n"
     ]
    }
   ],
   "source": [
    "class MyName:\n",
    "    \"\"\"Опис класу / Документація\n",
    "    \"\"\"\n",
    "    total_names = 0 #Class Variable\n",
    "\n",
    "    def __init__(self, name=None) -> None:\n",
    "        self.name = name if name is not None else self.anonymous_user().name #Class attributes / Instance variables\n",
    "        MyName.total_names += 1 #modify class variable\n",
    "        self.my_id = self.total_names\n",
    "\n",
    "    @property\n",
    "    def whoami(self): \n",
    "        \"\"\"Class property\n",
    "        return: повертаємо імя \n",
    "        \"\"\"\n",
    "        return f\"My name is {self.name}\"\n",
    "    \n",
    "    @property\n",
    "    def my_email(self) -> str:\n",
    "        \"\"\"Class property\n",
    "        return: повертаємо емейл\n",
    "        \"\"\"\n",
    "        return self.create_email()\n",
    "    \n",
    "    def create_email(self) -> str:\n",
    "        \"\"\"Instance method\n",
    "        \"\"\"\n",
    "        return f\"{self.name}@itcollege.lviv.ua\"\n",
    "\n",
    "    @classmethod\n",
    "    def anonymous_user(cls):\n",
    "        \"\"\"Classs method\n",
    "        \"\"\"\n",
    "        return cls(\"Anonymous\")\n",
    "    \n",
    "    @staticmethod\n",
    "    def say_hello(message=\"Hello to everyone!\"):\n",
    "        \"\"\"Static method\n",
    "        \"\"\"\n",
    "        return f\"You say: {message}\"\n",
    "\n",
    "\n",
    "print(\"Let's Start!\")\n",
    "\n",
    "names = (\"Bohdan\", \"Marta\", None)\n",
    "all_names = {name: MyName(name) for name in names}\n",
    "\n",
    "for name, me in all_names.items():\n",
    "    print(f\"\"\"{\">*<\"*20}\n",
    "This is object: {me} \n",
    "This is object attribute: {me.name} / {me.my_id}\n",
    "This is {type(MyName.whoami)}: {me.whoami} / {me.my_email}\n",
    "This is {type(me.create_email)} call: {me.create_email()}\n",
    "This is static {type(MyName.say_hello)} with defaults: {me.say_hello()} \n",
    "This is class variable {type(MyName.total_names)}: from class {MyName.total_names} / from object {me.total_names}\n",
    "{\"<*>\"*20}\"\"\")\n",
    "\n",
    "print(f\"We are done. We create {me.total_names} names! ??? Why {MyName.total_names}?\")"
   ]
  }
 ],
 "metadata": {
  "kernelspec": {
   "display_name": "Python 3",
   "language": "python",
   "name": "python3"
  },
  "language_info": {
   "codemirror_mode": {
    "name": "ipython",
    "version": 3
   },
   "file_extension": ".py",
   "mimetype": "text/x-python",
   "name": "python",
   "nbconvert_exporter": "python",
   "pygments_lexer": "ipython3",
   "version": "3.10.11"
  }
 },
 "nbformat": 4,
 "nbformat_minor": 2
}
