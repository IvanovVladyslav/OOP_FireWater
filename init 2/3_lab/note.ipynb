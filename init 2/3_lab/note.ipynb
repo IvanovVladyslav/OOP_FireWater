{
 "cells": [
  {
   "cell_type": "markdown",
   "metadata": {},
   "source": [
    "# Основи ООП\n",
    "### Вступ, порівняня"
   ]
  },
  {
   "cell_type": "code",
   "execution_count": 1,
   "metadata": {},
   "outputs": [
    {
     "name": "stdout",
     "output_type": "stream",
     "text": [
      "['Це', 'стрічка.']\n",
      "Владислав має домашнього улюбленця Кіт\n",
      "Назар має домашнього улюбленця Собака\n",
      "Іван має домашнього улюбленця Рибки\n",
      "Владислав має домашнього улюбленця ['Кіт', 'Рибки']\n",
      "Назар має домашнього улюбленця ['Кіт', 'Собака']\n",
      "Іван має домашнього улюбленця Папуга\n",
      "Тетяна немає тваринок.\n"
     ]
    }
   ],
   "source": [
    "s = str(\"Це стрічка.\")\n",
    "for i in [s.split()]:\n",
    "    print(i)\n",
    "# Якщр у нас є якийсь набір даних які потрібно мі собою зв'язати\n",
    "name = [\"Владислав\", \"Назар\", \"Іван\"]\n",
    "pets = [\"Кіт\", \"Собака\", \"Рибки\", \"Папуга\"]\n",
    "\n",
    "for i in range(len(name)):\n",
    "    print(f\"{name[i]} має домашнього улюбленця {pets[i]}\")\n",
    "\n",
    "# А як зробити відповідність якщо потрібно зв'язати один до декількох?\n",
    "# можемо піти дуже складним шляхом та застосовувати словники\n",
    "who_has_pets = {\"Владислав\": [\"Кіт\", \"Рибки\"], \"Назар\":[\"Кіт\", \"Собака\"], \"Іван\": \"Папуга\", \"Тетяна\": None}\n",
    "for name in who_has_pets.keys():\n",
    "    if who_has_pets[name]:\n",
    "        print(f\"{name} має домашнього улюбленця {who_has_pets[name]}\")\n",
    "    else:\n",
    "        print(f\"{name} немає тваринок.\")\n"
   ]
  },
  {
   "cell_type": "code",
   "execution_count": 2,
   "metadata": {},
   "outputs": [
    {
     "name": "stdout",
     "output_type": "stream",
     "text": [
      "<__main__.WhoHasPets object at 0x0000029B72FC9F00>\n",
      "<__main__.WhoHasPets object at 0x0000029B72FCAB00>\n"
     ]
    }
   ],
   "source": [
    "# ООП дозволяє створити новий тип даних описавши його властивості та поведінку\n",
    "class WhoHasPets():\n",
    "    pass\n",
    "\n",
    "\n",
    "a = WhoHasPets()\n",
    "a.name = \"Богдан\"\n",
    "a.surname = \"Б\"\n",
    "a.pets = [\"Кіт\", \"Рибки\"]\n",
    "a.pets_age = {\"Кіт\": 3, \"Рибки\": 1}\n",
    "\n",
    "print(a)\n",
    "\n",
    "\n",
    "\n",
    "b = WhoHasPets()\n",
    "print(b)\n",
    "\n"
   ]
  },
  {
   "cell_type": "code",
   "execution_count": 3,
   "metadata": {},
   "outputs": [],
   "source": [
    "def print_objects(obj:list):\n",
    "    for member in obj:\n",
    "         #print(f\"{member.name} {member.surname} має домашнього улюбленця {member.pets}. Тваринки мають вік {member.pets_age}\")\n",
    "        print(f\"{member.full_name} має домашнього улюбленця {member.pets}. Тваринки мають вік {member.pets_age}\")\n"
   ]
  },
  {
   "cell_type": "markdown",
   "metadata": {},
   "source": [
    "- атрибути об'єктів, їх визначень через класи"
   ]
  },
  {
   "cell_type": "code",
   "execution_count": 37,
   "metadata": {},
   "outputs": [
    {
     "name": "stdout",
     "output_type": "stream",
     "text": [
      "Богдан Б має домашнього улюбленця Заведи собі домашнніх улюбленців!. Тваринки мають вік {}\n",
      "Андрій А має домашнього улюбленця ['Собака']. Тваринки мають вік {'Собака': 4}\n",
      "Володимир В має домашнього улюбленця ['Кіт', 'Папуга']. Тваринки мають вік {'Кіт': 6, 'Папуга': 1}\n",
      "1\n"
     ]
    }
   ],
   "source": [
    "# У класі є одна особлива функція яка називається Конструктор\n",
    "# У Конструкторі з'являється особлива змінна, яка називається self - вказівник на  об'єкт\n",
    "# self ніколи явно не передається при виклику об'єктів\n",
    "class WhoHasPets():\n",
    "    # ми передаємо у конструктор аргументи для заповнення атрибутів об'єкту\n",
    "    def __init__(self, name:str, surname:str, pets:set=(), pets_age:dict={}) -> None:\n",
    "        #можемо аргументи передати в атрибути без змін, просто ініціалізуючи об'єкт\n",
    "        self.name = name\n",
    "        self.surname = surname\n",
    "        # ми можемо модифікувати аргументи перш ніж присвоїти їх атрибутам об'єкту\n",
    "        self.full_name = name + \" \" + surname\n",
    "        self.pets = pets if len(pets) > 0 else \"Заведи собі домашнніх улюбленців!\"\n",
    "        self.pets_age = pets_age\n",
    "\n",
    "    @property\n",
    "    def full_name_property(self):\n",
    "        return f\"{self.name} {self.surname}\"\n",
    "\n",
    "    def pets_amount(self):\n",
    "        return len(self.pets) if isinstance(self.pets, list) else 0\n",
    "\n",
    "    def add_new_pets(self, breed:str, name:str=None, age:int=None):\n",
    "        if isinstance(self.pets, set):\n",
    "            #  У данного об'єкта вже є улюбленці, тому ми просто додаємо нового до списку  \n",
    "            self.pets.add(breed)\n",
    "        else:\n",
    "            self.pets = {breed}           \n",
    "a = WhoHasPets(\"Богдан\", \"Б\")\n",
    "b = WhoHasPets(\"Андрій\", \"А\", [\"Собака\"], {\"Собака\": 4})\n",
    "c = WhoHasPets(\"Володимир\", \"В\", [\"Кіт\", \"Папуга\"], {\"Кіт\": 6, \"Папуга\": 1})\n",
    "\n",
    "print_objects([a,b,c])\n",
    "\n",
    "### Для порівняння, в цілих числах конструктор міг бути ініціалізований числом, яке є числом що передається у конструктор\n",
    "n = int(1)\n",
    "print(n)"
   ]
  },
  {
   "cell_type": "code",
   "execution_count": 38,
   "metadata": {},
   "outputs": [
    {
     "name": "stdout",
     "output_type": "stream",
     "text": [
      "Богдан\n",
      "Богдан Б\n",
      "Богдан Б має домашнього улюбленця Заведи собі домашнніх улюбленців!. Тваринки мають вік {}\n"
     ]
    }
   ],
   "source": [
    "a.name\n",
    "print(a.name)\n",
    "print(a.full_name_property)\n",
    "print_objects([a])"
   ]
  },
  {
   "cell_type": "code",
   "execution_count": 35,
   "metadata": {},
   "outputs": [
    {
     "name": "stdout",
     "output_type": "stream",
     "text": [
      "Богдан 0 домашніх улюбленців. В нього є: Заведи собі домашнніх улюбленців!\n",
      "Андрій 1 домашніх улюбленців. В нього є: ['Собака']\n",
      "Володимир 2 домашніх улюбленців. В нього є: ['Кіт', 'Папуга']\n"
     ]
    }
   ],
   "source": [
    "a.pets_amount()\n",
    "for o in [a, b, c]:\n",
    "    print(f\"{o.name} {o.pets_amount()} домашніх улюбленців. В нього є: {o.pets}\")"
   ]
  },
  {
   "cell_type": "code",
   "execution_count": 40,
   "metadata": {},
   "outputs": [
    {
     "name": "stdout",
     "output_type": "stream",
     "text": [
      "Богдан 0 домашніх улюбленців. В нього є: {'Рибок', 'Кіт'}\n"
     ]
    }
   ],
   "source": [
    "a.add_new_pets(\"Кіт\")\n",
    "# Дописати логіку передавання імен улюбленців!\n",
    "for o in [a]:\n",
    "    print(f\"{o.name} {o.pets_amount()} домашніх улюбленців. В нього є: {o.pets}\")"
   ]
  },
  {
   "cell_type": "code",
   "execution_count": 5,
   "metadata": {},
   "outputs": [
    {
     "name": "stdout",
     "output_type": "stream",
     "text": [
      "Let's Start!\n",
      ">*<>*<>*<>*<>*<>*<>*<>*<>*<>*<>*<>*<>*<>*<>*<>*<>*<>*<>*<>*<\n",
      "This is object: <__main__.MyName object at 0x0000029B73076C80> \n",
      "This is object attribute: Bohdan / 1\n",
      "This is <class 'property'>: My name is Bohdan / Bohdan@itcollege.lviv.ua\n",
      "This is <class 'method'> call: Bohdan@itcollege.lviv.ua\n",
      "This is static <class 'function'> with defaults: You say: Hello to everyone! \n",
      "This is class variable <class 'int'>: from class 4 / from object 4\n",
      "<*><*><*><*><*><*><*><*><*><*><*><*><*><*><*><*><*><*><*><*>\n",
      ">*<>*<>*<>*<>*<>*<>*<>*<>*<>*<>*<>*<>*<>*<>*<>*<>*<>*<>*<>*<\n",
      "This is object: <__main__.MyName object at 0x0000029B730769B0> \n",
      "This is object attribute: Marta / 2\n",
      "This is <class 'property'>: My name is Marta / Marta@itcollege.lviv.ua\n",
      "This is <class 'method'> call: Marta@itcollege.lviv.ua\n",
      "This is static <class 'function'> with defaults: You say: Hello to everyone! \n",
      "This is class variable <class 'int'>: from class 4 / from object 4\n",
      "<*><*><*><*><*><*><*><*><*><*><*><*><*><*><*><*><*><*><*><*>\n",
      ">*<>*<>*<>*<>*<>*<>*<>*<>*<>*<>*<>*<>*<>*<>*<>*<>*<>*<>*<>*<\n",
      "This is object: <__main__.MyName object at 0x0000029B73077A60> \n",
      "This is object attribute: Anonymous / 4\n",
      "This is <class 'property'>: My name is Anonymous / Anonymous@itcollege.lviv.ua\n",
      "This is <class 'method'> call: Anonymous@itcollege.lviv.ua\n",
      "This is static <class 'function'> with defaults: You say: Hello to everyone! \n",
      "This is class variable <class 'int'>: from class 4 / from object 4\n",
      "<*><*><*><*><*><*><*><*><*><*><*><*><*><*><*><*><*><*><*><*>\n",
      "We are done. We create 4 names! ??? Why 4?\n"
     ]
    }
   ],
   "source": [
    "class MyName:\n",
    "    \"\"\"Опис класу / Документація\n",
    "    \"\"\"\n",
    "    total_names = 0 #Class Variable\n",
    "\n",
    "    def __init__(self, name=None) -> None:\n",
    "        self.name = name if name is not None else self.anonymous_user().name #Class attributes / Instance variables\n",
    "        MyName.total_names += 1 #modify class variable\n",
    "        self.my_id = self.total_names\n",
    "\n",
    "    @property\n",
    "    def whoami(self): \n",
    "        \"\"\"Class property\n",
    "        return: повертаємо імя \n",
    "        \"\"\"\n",
    "        return f\"My name is {self.name}\"\n",
    "    \n",
    "    @property\n",
    "    def my_email(self) -> str:\n",
    "        \"\"\"Class property\n",
    "        return: повертаємо емейл\n",
    "        \"\"\"\n",
    "        return self.create_email()\n",
    "    \n",
    "    def create_email(self) -> str:\n",
    "        \"\"\"Instance method\n",
    "        \"\"\"\n",
    "        return f\"{self.name}@itcollege.lviv.ua\"\n",
    "\n",
    "    @classmethod\n",
    "    def anonymous_user(cls):\n",
    "        \"\"\"Classs method\n",
    "        \"\"\"\n",
    "        return cls(\"Anonymous\")\n",
    "    \n",
    "    @staticmethod\n",
    "    def say_hello(message=\"Hello to everyone!\"):\n",
    "        \"\"\"Static method\n",
    "        \"\"\"\n",
    "        return f\"You say: {message}\"\n",
    "\n",
    "\n",
    "print(\"Let's Start!\")\n",
    "\n",
    "names = (\"Bohdan\", \"Marta\", None)\n",
    "all_names = {name: MyName(name) for name in names}\n",
    "\n",
    "for name, me in all_names.items():\n",
    "    print(f\"\"\"{\">*<\"*20}\n",
    "This is object: {me} \n",
    "This is object attribute: {me.name} / {me.my_id}\n",
    "This is {type(MyName.whoami)}: {me.whoami} / {me.my_email}\n",
    "This is {type(me.create_email)} call: {me.create_email()}\n",
    "This is static {type(MyName.say_hello)} with defaults: {me.say_hello()} \n",
    "This is class variable {type(MyName.total_names)}: from class {MyName.total_names} / from object {me.total_names}\n",
    "{\"<*>\"*20}\"\"\")\n",
    "\n",
    "print(f\"We are done. We create {me.total_names} names! ??? Why {MyName.total_names}?\")"
   ]
  }
 ],
 "metadata": {
  "kernelspec": {
   "display_name": "Python 3",
   "language": "python",
   "name": "python3"
  },
  "language_info": {
   "codemirror_mode": {
    "name": "ipython",
    "version": 3
   },
   "file_extension": ".py",
   "mimetype": "text/x-python",
   "name": "python",
   "nbconvert_exporter": "python",
   "pygments_lexer": "ipython3",
   "version": "3.10.11"
  }
 },
 "nbformat": 4,
 "nbformat_minor": 2
}
