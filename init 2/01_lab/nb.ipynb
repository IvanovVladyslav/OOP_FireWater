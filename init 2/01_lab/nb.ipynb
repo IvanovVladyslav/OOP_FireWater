{
 "cells": [
  {
   "cell_type": "markdown",
   "metadata": {},
   "source": [
    "### Виконуємо першу програму ітеративно у комірках Python Jupyter Notebook\n",
    ">Ця комірка належить до Markdown, а наступна буде з кодом Python"
   ]
  },
  {
   "cell_type": "markdown",
   "metadata": {},
   "source": [
    "- наступна клітинка ЦЕ ІМПОРТИ БІБЛІОТЕК"
   ]
  },
  {
   "cell_type": "code",
   "execution_count": 1,
   "metadata": {},
   "outputs": [],
   "source": [
    "from datetime import datetime\n",
    "from time import time, sleep\n"
   ]
  },
  {
   "cell_type": "markdown",
   "metadata": {},
   "source": [
    "Наступна клітинка задає змінні"
   ]
  },
  {
   "cell_type": "code",
   "execution_count": 2,
   "metadata": {},
   "outputs": [],
   "source": [
    "name = \"Vladislav\"\n",
    "Location = \"Lviv\"\n",
    "sleep_time = 8"
   ]
  },
  {
   "cell_type": "markdown",
   "metadata": {},
   "source": [
    "наступна клітинка буде виводити текст\n"
   ]
  },
  {
   "cell_type": "code",
   "execution_count": 3,
   "metadata": {},
   "outputs": [
    {
     "name": "stdout",
     "output_type": "stream",
     "text": [
      "Vladislav start programing at 2023-09-20 08:45:10.185188. Lviv is the best city!\n",
      "Програма буде спати 8 секунд\n",
      "Програма виконувалась 8.015409231185913 сек (і ми забираємо 8 сек які програма спала): 0.015409231185913086 сек.\n"
     ]
    }
   ],
   "source": [
    "start = time()\n",
    "print(f\"{name} start programing at {datetime.now()}. {Location} is the best city!\")\n",
    "print(f\"Програма буде спати {sleep_time} секунд\")\n",
    "sleep(sleep_time)\n",
    "end = time()\n",
    "print(f\"Програма виконувалась {end - start} сек (і ми забираємо {sleep_time} сек які програма спала): {end - start - sleep_time} сек.\")\n",
    "\n"
   ]
  },
  {
   "cell_type": "code",
   "execution_count": null,
   "metadata": {},
   "outputs": [],
   "source": []
  }
 ],
 "metadata": {
  "kernelspec": {
   "display_name": "Python 3",
   "language": "python",
   "name": "python3"
  },
  "language_info": {
   "codemirror_mode": {
    "name": "ipython",
    "version": 3
   },
   "file_extension": ".py",
   "mimetype": "text/x-python",
   "name": "python",
   "nbconvert_exporter": "python",
   "pygments_lexer": "ipython3",
   "version": "3.10.11"
  },
  "orig_nbformat": 4
 },
 "nbformat": 4,
 "nbformat_minor": 2
}
