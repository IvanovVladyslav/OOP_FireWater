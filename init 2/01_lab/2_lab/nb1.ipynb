{
 "cells": [
  {
   "cell_type": "markdown",
   "metadata": {},
   "source": [
    "# Основи Python\n",
    "## Загальні поняття\n",
    "> клас - це загальний темплейт який описує щось конкретне;\n",
    "\n",
    "> об'єкт - це окремий екземпляр класу з своїми характеристиками/параметрам;\n",
    "\n",
    "> тип даних - характеристика набору даних;\n"
   ]
  },
  {
   "cell_type": "markdown",
   "metadata": {},
   "source": [
    "- вбудовані типи даних (текстові/стрічкові)"
   ]
  },
  {
   "cell_type": "code",
   "execution_count": 6,
   "metadata": {},
   "outputs": [
    {
     "name": "stdout",
     "output_type": "stream",
     "text": [
      "Це текстові дані які будуть виведені\n",
      "Ця змінна містить текстові дані\n",
      "Це буде текстові дані через клас str\n",
      "Рахуємо скільки разів зустрічається буква е в об'єкті b:  5\n",
      "Рахуємо скільки разів зустрічається буква і в текстовій змінній а:  2\n",
      "Рахуємо скільки разів зустрічається буква і в простій стрічці:  3\n"
     ]
    }
   ],
   "source": [
    "print(\"Це текстові дані які будуть виведені\")\n",
    "a = \"Ця змінна містить текстові дані\"\n",
    "print(a)\n",
    "b = str(\"Це буде текстові дані через клас str\")\n",
    "print(b)\n",
    "\n",
    "print(\"Рахуємо скільки разів зустрічається буква е в об'єкті b: \",b.count(\"е\"))\n",
    "print(\"Рахуємо скільки разів зустрічається буква і в текстовій змінній а: \",b.count(\"і\"))\n",
    "print(\"Рахуємо скільки разів зустрічається буква і в простій стрічці: \", \"Це буде стічка без присвоєння змінній чи створення обєкту\".count(\"і\"))"
   ]
  },
  {
   "cell_type": "code",
   "execution_count": null,
   "metadata": {},
   "outputs": [],
   "source": []
  }
 ],
 "metadata": {
  "kernelspec": {
   "display_name": "Python 3",
   "language": "python",
   "name": "python3"
  },
  "language_info": {
   "codemirror_mode": {
    "name": "ipython",
    "version": 3
   },
   "file_extension": ".py",
   "mimetype": "text/x-python",
   "name": "python",
   "nbconvert_exporter": "python",
   "pygments_lexer": "ipython3",
   "version": "3.10.11"
  },
  "orig_nbformat": 4
 },
 "nbformat": 4,
 "nbformat_minor": 2
}
